{
 "cells": [
  {
   "cell_type": "markdown",
   "id": "9d580b8a",
   "metadata": {},
   "source": [
    "## Generador Barcode"
   ]
  },
  {
   "cell_type": "code",
   "execution_count": 2,
   "id": "b20bfef9",
   "metadata": {},
   "outputs": [
    {
     "name": "stdout",
     "output_type": "stream",
     "text": [
      "Collecting python-barcodeNote: you may need to restart the kernel to use updated packages.\n",
      "  Downloading python_barcode-0.15.1-py3-none-any.whl (212 kB)\n",
      "Installing collected packages: python-barcode\n",
      "Successfully installed python-barcode-0.15.1\n",
      "\n"
     ]
    },
    {
     "name": "stderr",
     "output_type": "stream",
     "text": [
      "WARNING: You are using pip version 20.2.3; however, version 25.1.1 is available.\n",
      "You should consider upgrading via the 'c:\\users\\hector\\appdata\\local\\programs\\python\\python39\\python.exe -m pip install --upgrade pip' command.\n"
     ]
    }
   ],
   "source": [
    "# Primero instalar el modulo en python.\n",
    "pip install python-barcode"
   ]
  },
  {
   "cell_type": "code",
   "execution_count": 15,
   "id": "2323c2a1",
   "metadata": {},
   "outputs": [
    {
     "name": "stdout",
     "output_type": "stream",
     "text": [
      "Ingresar valor para generar codigo de barra, solo numeros y 11 digitos : 41155115505\n"
     ]
    },
    {
     "data": {
      "text/plain": [
       "'generated_barcode.png'"
      ]
     },
     "execution_count": 15,
     "metadata": {},
     "output_type": "execute_result"
    }
   ],
   "source": [
    "import barcode\n",
    "from barcode.writer import ImageWriter\n",
    "\n",
    "# Aqui colocar el contenido del codigo de barras como un string\n",
    "number = input(\"Ingresar valor para generar codigo de barra, solo numeros y 11 digitos : \")\n",
    "\n",
    "# Formato del codigo de barras\n",
    "barcode_format = barcode.get_barcode_class('upc')\n",
    "\n",
    "# Genera el codigo de barras y crea la imagen.\n",
    "my_barcode = barcode_format(number, writer=ImageWriter())\n",
    "\n",
    "# Grabar en PNG\n",
    "my_barcode.save(\"generated_barcode\")\n"
   ]
  },
  {
   "cell_type": "code",
   "execution_count": 16,
   "id": "87c88611",
   "metadata": {},
   "outputs": [
    {
     "data": {
      "image/png": "[encoded data removed]",
      "text/plain": [
       "<PIL.PngImagePlugin.PngImageFile image mode=RGB size=523x280 at 0x15903B2AB80>"
      ]
     },
     "execution_count": 16,
     "metadata": {},
     "output_type": "execute_result"
    }
   ],
   "source": [
    "from PIL import Image\n",
    "Image.open('generated_barcode.png')"
   ]
  },
  {
   "cell_type": "code",
   "execution_count": null,
   "id": "af6a096e",
   "metadata": {},
   "outputs": [],
   "source": []
  }
 ],
 "metadata": {
  "kernelspec": {
   "display_name": "Python 3",
   "language": "python",
   "name": "python3"
  },
  "language_info": {
   "codemirror_mode": {
    "name": "ipython",
    "version": 3
   },
   "file_extension": ".py",
   "mimetype": "text/x-python",
   "name": "python",
   "nbconvert_exporter": "python",
   "pygments_lexer": "ipython3",
   "version": "3.9.4"
  }
 },
 "nbformat": 4,
 "nbformat_minor": 5
}
